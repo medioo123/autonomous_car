{
 "cells": [
  {
   "cell_type": "code",
   "execution_count": 10,
   "metadata": {},
   "outputs": [],
   "source": [
    "import numpy as np \n",
    "import keras\n",
    "from sklearn.model_selection import train_test_split\n",
    "from supervisedCar import functions as f\n",
    "from supervisedCar import architecture\n",
    "import argparse\n",
    "import warnings\n",
    "warnings.filterwarnings(\"ignore\")"
   ]
  },
  {
   "cell_type": "code",
   "execution_count": 11,
   "metadata": {},
   "outputs": [],
   "source": [
    "\n",
    "\n",
    "args = {\"batch_size\": 200,\n",
    "        \"augmentation\": True,\n",
    "       \"epochs\": 10,\n",
    "       \"val_split\":0.2,\n",
    "       \"early_stop\":True,\n",
    "       \"patience\":2}\n"
   ]
  },
  {
   "cell_type": "code",
   "execution_count": 12,
   "metadata": {},
   "outputs": [
    {
     "name": "stdout",
     "output_type": "stream",
     "text": [
      "Axionable data Loaded. Shape =  (26449, 90, 250, 3)\n",
      "Ironcar new track chicane Loaded. Shape =  (1519, 90, 250, 3)\n",
      "Ironcar old track data Loaded. Shape =  (16028, 90, 250, 3)\n",
      "All data loaded and augmented. Shape =  (43996, 90, 250, 3)\n"
     ]
    }
   ],
   "source": [
    "# Model path\n",
    "model_path = 'Models/'\n",
    "\n",
    "# Get training data from the Axionable track\n",
    "X_axio = np.load('Datasets/axionable_data/X_train_axio.npy')\n",
    "Y_axio = np.load('Datasets/axionable_data/Y_train_axio.npy')\n",
    "print('Axionable data Loaded. Shape = ', np.shape(X_axio))\n",
    "\n",
    "    \n",
    "# Get training data from IronCar track\n",
    "# New track - Double chicane\n",
    "X_chicane = np.load('Datasets/ironcar_data/new_track/x_chicane.npy')\n",
    "Y_chicane = np.load('Datasets/ironcar_data/new_track/y_chicane.npy')\n",
    "print('Ironcar new track chicane Loaded. Shape = ', np.shape(X_chicane))\n",
    "\n",
    "# Old track - Balanced dataset\n",
    "X_iron = np.load('Datasets/ironcar_data/old_track/balanced_iron_X.npy')\n",
    "Y_iron = np.load('Datasets/ironcar_data/old_track/balanced_iron_Y.npy')\n",
    "print('Ironcar old track data Loaded. Shape = ', np.shape(X_iron))\n",
    "\n",
    "\n",
    "    # Concatenate both augmented datasets in a single one\n",
    "X = np.concatenate((X_axio, X_iron, X_chicane))\n",
    "Y = np.concatenate((Y_axio, Y_iron, Y_chicane))\n",
    "print('All data loaded and augmented. Shape = ', np.shape(X))"
   ]
  },
  {
   "cell_type": "code",
   "execution_count": 13,
   "metadata": {},
   "outputs": [],
   "source": [
    "X_axio, X_test, Y_axio, Y_test = train_test_split(X, Y, test_size=args['val_split'], random_state=12)"
   ]
  },
  {
   "cell_type": "code",
   "execution_count": null,
   "metadata": {},
   "outputs": [],
   "source": []
  },
  {
   "cell_type": "code",
   "execution_count": 14,
   "metadata": {},
   "outputs": [
    {
     "name": "stderr",
     "output_type": "stream",
     "text": [
      "  2%|▏         | 219/8799 [00:00<00:03, 2186.99it/s]"
     ]
    },
    {
     "name": "stdout",
     "output_type": "stream",
     "text": [
      "Augmenting data... Wait...\n"
     ]
    },
    {
     "name": "stderr",
     "output_type": "stream",
     "text": [
      "100%|██████████| 8799/8799 [00:03<00:00, 2690.06it/s]\n",
      "100%|██████████| 8799/8799 [00:01<00:00, 4413.64it/s]\n",
      "100%|██████████| 8799/8799 [00:00<00:00, 613081.73it/s]\n",
      "100%|██████████| 8799/8799 [00:03<00:00, 2557.05it/s]\n",
      "100%|██████████| 8799/8799 [00:06<00:00, 1344.34it/s]\n"
     ]
    },
    {
     "name": "stdout",
     "output_type": "stream",
     "text": [
      "Axionable data after augmentation. Shape =  (79191, 90, 250, 3)\n"
     ]
    }
   ],
   "source": [
    "# Data augmentation of the dataset / Adjust the proportion of each transformation you want to apply.\n",
    "if args['augmentation']:\n",
    "    print('Augmenting data... Wait...')\n",
    "    # Data augmentation 25% of random brightness.\n",
    "    X_bright, Y_bright = f.generate_brightness(X_axio, Y_axio, proportion=0.25)\n",
    "    # Data augmentation 25% of night effect.\n",
    "    X_night, Y_night = f.generate_night_effect(X_axio, Y_axio, proportion=0.25)\n",
    "    # Data augmentation 25% of horizontal flipping.\n",
    "    X_flip, Y_flip = f.generate_horizontal_flip(X_axio, Y_axio, proportion=0.25)\n",
    "    # Data augmentation 25% of random shadows.\n",
    "    X_shadow, Y_shadow = f.generate_random_shadows(X_axio, Y_axio, proportion=0.25)\n",
    "    # Data augmentation 25% of chained tranformations (bright + shadows + flip).\n",
    "    X_chain, Y_chain = f.generate_chained_transformations(X_axio, Y_axio, proportion=0.25)\n",
    "\n",
    "    # Concatenating Axionable dataset with the transformations.\n",
    "    X_axio = np.concatenate((X_axio, X_bright, X_night,\n",
    "                                X_flip, X_shadow, X_chain))\n",
    "\n",
    "    Y_axio = np.concatenate((Y_axio, Y_bright, Y_night, \n",
    "                                Y_flip, Y_shadow, Y_chain)).astype('float32')\n",
    "\n",
    "    print('Axionable data after augmentation. Shape = ', np.shape(X_axio))\n"
   ]
  },
  {
   "cell_type": "code",
   "execution_count": 15,
   "metadata": {},
   "outputs": [],
   "source": [
    "# Perform train/validation split. We do not use test set.\n",
    "X_train, X_val, Y_train, Y_val = train_test_split(X_axio, Y_axio, test_size=args['val_split'], random_state=12)"
   ]
  },
  {
   "cell_type": "code",
   "execution_count": null,
   "metadata": {},
   "outputs": [],
   "source": []
  },
  {
   "cell_type": "code",
   "execution_count": 16,
   "metadata": {},
   "outputs": [
    {
     "name": "stdout",
     "output_type": "stream",
     "text": [
      "WARNING:tensorflow:From /usr/local/lib/python3.6/dist-packages/tensorflow/python/framework/op_def_library.py:263: colocate_with (from tensorflow.python.framework.ops) is deprecated and will be removed in a future version.\n",
      "Instructions for updating:\n",
      "Colocations handled automatically by placer.\n",
      "WARNING:tensorflow:From /usr/local/lib/python3.6/dist-packages/keras/backend/tensorflow_backend.py:3445: calling dropout (from tensorflow.python.ops.nn_ops) with keep_prob is deprecated and will be removed in a future version.\n",
      "Instructions for updating:\n",
      "Please use `rate` instead of `keep_prob`. Rate should be set to `rate = 1 - keep_prob`.\n",
      "_________________________________________________________________\n",
      "Layer (type)                 Output Shape              Param #   \n",
      "=================================================================\n",
      "img_in (InputLayer)          (None, 90, 250, 3)        0         \n",
      "_________________________________________________________________\n",
      "conv2d_1 (Conv2D)            (None, 43, 123, 24)       1824      \n",
      "_________________________________________________________________\n",
      "conv2d_2 (Conv2D)            (None, 20, 60, 32)        19232     \n",
      "_________________________________________________________________\n",
      "conv2d_3 (Conv2D)            (None, 8, 28, 64)         51264     \n",
      "_________________________________________________________________\n",
      "conv2d_4 (Conv2D)            (None, 6, 26, 64)         36928     \n",
      "_________________________________________________________________\n",
      "conv2d_5 (Conv2D)            (None, 4, 24, 64)         36928     \n",
      "_________________________________________________________________\n",
      "flattened (Flatten)          (None, 6144)              0         \n",
      "_________________________________________________________________\n",
      "dense_1 (Dense)              (None, 100)               614500    \n",
      "_________________________________________________________________\n",
      "dropout_1 (Dropout)          (None, 100)               0         \n",
      "_________________________________________________________________\n",
      "dense_2 (Dense)              (None, 50)                5050      \n",
      "_________________________________________________________________\n",
      "dropout_2 (Dropout)          (None, 50)                0         \n",
      "_________________________________________________________________\n",
      "angle_out (Dense)            (None, 5)                 255       \n",
      "=================================================================\n",
      "Total params: 765,981\n",
      "Trainable params: 765,981\n",
      "Non-trainable params: 0\n",
      "_________________________________________________________________\n",
      "WARNING:tensorflow:From /usr/local/lib/python3.6/dist-packages/tensorflow/python/ops/math_ops.py:3066: to_int32 (from tensorflow.python.ops.math_ops) is deprecated and will be removed in a future version.\n",
      "Instructions for updating:\n",
      "Use tf.cast instead.\n",
      "Train on 63352 samples, validate on 15839 samples\n",
      "Epoch 1/10\n",
      "63352/63352 [==============================] - 274s 4ms/step - loss: 0.8579 - acc: 0.7267 - val_loss: 0.2533 - val_acc: 0.9158\n",
      "\n",
      "Epoch 00001: val_loss improved from inf to 0.25328, saving model to Models/normalAugmented.hdf5\n",
      "Epoch 2/10\n",
      "63352/63352 [==============================] - 275s 4ms/step - loss: 0.2111 - acc: 0.9303 - val_loss: 0.1527 - val_acc: 0.9493\n",
      "\n",
      "Epoch 00002: val_loss improved from 0.25328 to 0.15269, saving model to Models/normalAugmented.hdf5\n",
      "Epoch 3/10\n",
      "63352/63352 [==============================] - 275s 4ms/step - loss: 0.1249 - acc: 0.9582 - val_loss: 0.1256 - val_acc: 0.9602\n",
      "\n",
      "Epoch 00003: val_loss improved from 0.15269 to 0.12557, saving model to Models/normalAugmented.hdf5\n",
      "Epoch 4/10\n",
      "63352/63352 [==============================] - 275s 4ms/step - loss: 0.0902 - acc: 0.9703 - val_loss: 0.0922 - val_acc: 0.9720\n",
      "\n",
      "Epoch 00004: val_loss improved from 0.12557 to 0.09223, saving model to Models/normalAugmented.hdf5\n",
      "Epoch 5/10\n",
      "63352/63352 [==============================] - 275s 4ms/step - loss: 0.0720 - acc: 0.9772 - val_loss: 0.0802 - val_acc: 0.9759\n",
      "\n",
      "Epoch 00005: val_loss improved from 0.09223 to 0.08016, saving model to Models/normalAugmented.hdf5\n",
      "Epoch 6/10\n",
      "63352/63352 [==============================] - 275s 4ms/step - loss: 0.0543 - acc: 0.9821 - val_loss: 0.0753 - val_acc: 0.9799\n",
      "\n",
      "Epoch 00006: val_loss improved from 0.08016 to 0.07529, saving model to Models/normalAugmented.hdf5\n",
      "Epoch 7/10\n",
      "63352/63352 [==============================] - 274s 4ms/step - loss: 0.0476 - acc: 0.9853 - val_loss: 0.0801 - val_acc: 0.9785\n",
      "\n",
      "Epoch 00007: val_loss did not improve from 0.07529\n",
      "Epoch 8/10\n",
      "63352/63352 [==============================] - 275s 4ms/step - loss: 0.0406 - acc: 0.9872 - val_loss: 0.0868 - val_acc: 0.9773\n",
      "\n",
      "Epoch 00008: val_loss did not improve from 0.07529\n",
      "Epoch 00008: early stopping\n"
     ]
    }
   ],
   "source": [
    "# Create autopilot model from architectures and print summary\n",
    "modelcanny =  architecture.model_categorical(input_size=(90,250,3), dropout=0.1)\n",
    "modelcanny.summary()\n",
    "# Train model\n",
    "model_name = model_path + 'normalAugmented.hdf5'\n",
    "min_delta=.0005\n",
    "\n",
    "#checkpoint to save model after each epoch\n",
    "save_best = keras.callbacks.ModelCheckpoint(model_name, \n",
    "                                            monitor='val_loss', \n",
    "                                            verbose=1, \n",
    "                                            save_best_only=True, \n",
    "                                            mode='min')\n",
    "#stop training if the validation error stops improving.\n",
    "early_stop = keras.callbacks.EarlyStopping(monitor='val_loss', \n",
    "                                           min_delta=min_delta, \n",
    "                                           patience=args['patience'], \n",
    "                                           verbose=1, \n",
    "                                           mode='auto')\n",
    "callbacks_list = [save_best]\n",
    "\n",
    "if args['early_stop']:\n",
    "    callbacks_list.append(early_stop)\n",
    "    \n",
    "hist = modelcanny.fit(\n",
    "                X_train, \n",
    "                Y_train,\n",
    "                nb_epoch=args['epochs'],\n",
    "                batch_size=args['batch_size'], \n",
    "                verbose=1, \n",
    "                validation_data=(X_val, Y_val),\n",
    "                callbacks=callbacks_list,\n",
    "                shuffle=True)    "
   ]
  },
  {
   "cell_type": "code",
   "execution_count": null,
   "metadata": {},
   "outputs": [],
   "source": [
    "from supervisedCar import error\n",
    "y_predict=modelcanny.predict(X_test)\n",
    "\n",
    "y_predict[y_predict<0.5]=0\n",
    "y_predict[y_predict>=0.5]=1"
   ]
  },
  {
   "cell_type": "code",
   "execution_count": null,
   "metadata": {},
   "outputs": [],
   "source": [
    "error.error_all(Y_test,y_predict)"
   ]
  },
  {
   "cell_type": "code",
   "execution_count": null,
   "metadata": {},
   "outputs": [],
   "source": [
    "len(X_train)"
   ]
  },
  {
   "cell_type": "code",
   "execution_count": null,
   "metadata": {},
   "outputs": [],
   "source": [
    "len(X_val)"
   ]
  },
  {
   "cell_type": "code",
   "execution_count": null,
   "metadata": {},
   "outputs": [],
   "source": [
    "len(X_test)"
   ]
  },
  {
   "cell_type": "code",
   "execution_count": null,
   "metadata": {},
   "outputs": [],
   "source": []
  }
 ],
 "metadata": {
  "kernelspec": {
   "display_name": "Python 3",
   "language": "python",
   "name": "python3"
  },
  "language_info": {
   "codemirror_mode": {
    "name": "ipython",
    "version": 3
   },
   "file_extension": ".py",
   "mimetype": "text/x-python",
   "name": "python",
   "nbconvert_exporter": "python",
   "pygments_lexer": "ipython3",
   "version": "3.6.7"
  }
 },
 "nbformat": 4,
 "nbformat_minor": 2
}
