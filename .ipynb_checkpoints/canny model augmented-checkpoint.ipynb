{
 "cells": [
  {
   "cell_type": "code",
   "execution_count": 1,
   "metadata": {},
   "outputs": [
    {
     "name": "stderr",
     "output_type": "stream",
     "text": [
      "Using TensorFlow backend.\n"
     ]
    }
   ],
   "source": [
    "\n",
    "import numpy as np \n",
    "import keras\n",
    "from sklearn.model_selection import train_test_split\n",
    "from supervisedCar import functions as f\n",
    "from supervisedCar import architecture\n",
    "import argparse\n",
    "import warnings\n",
    "warnings.filterwarnings(\"ignore\")\n",
    "from supervisedCar import my_cv as my_cv\n",
    "import matplotlib.pyplot as plt\n",
    "import cv2\n",
    "import time"
   ]
  },
  {
   "cell_type": "code",
   "execution_count": 2,
   "metadata": {},
   "outputs": [],
   "source": [
    "\n",
    "\n",
    "args = {\"batch_size\": 200,\n",
    "        \"augmentation\": True,\n",
    "       \"epochs\": 4,\n",
    "       \"val_split\":0.2,\n",
    "       \"early_stop\":True,\n",
    "       \"patience\":2}"
   ]
  },
  {
   "cell_type": "code",
   "execution_count": 5,
   "metadata": {},
   "outputs": [
    {
     "name": "stdout",
     "output_type": "stream",
     "text": [
      "Axionable data Loaded. Shape =  (26449, 90, 250, 3)\n",
      "Ironcar new track chicane Loaded. Shape =  (1519, 90, 250, 3)\n",
      "Ironcar old track data Loaded. Shape =  (16028, 90, 250, 3)\n",
      "All data loaded and augmented. Shape =  (42477, 90, 250, 3)\n"
     ]
    }
   ],
   "source": [
    "# Model path\n",
    "model_path = 'Models/'\n",
    "\n",
    "# Get training data from the Axionable track\n",
    "X_axio = np.load('Datasets/axionable_data/X_train_axio.npy')\n",
    "Y_axio = np.load('Datasets/axionable_data/Y_train_axio.npy')\n",
    "print('Axionable data Loaded. Shape = ', np.shape(X_axio))\n",
    "\n",
    "    \n",
    "# Get training data from IronCar track\n",
    "# New track - Double chicane\n",
    "X_chicane = np.load('Datasets/ironcar_data/new_track/x_chicane.npy')\n",
    "Y_chicane = np.load('Datasets/ironcar_data/new_track/y_chicane.npy')\n",
    "print('Ironcar new track chicane Loaded. Shape = ', np.shape(X_chicane))\n",
    "\n",
    "\n",
    "# Old track - Balanced dataset\n",
    "X_iron = np.load('Datasets/ironcar_data/old_track/balanced_iron_X.npy')\n",
    "Y_iron = np.load('Datasets/ironcar_data/old_track/balanced_iron_Y.npy')\n",
    "print('Ironcar old track data Loaded. Shape = ', np.shape(X_iron))\n",
    "\n",
    "    # Concatenate both augmented datasets in a single one\n",
    "X = np.concatenate((X_axio, X_iron))\n",
    "Y = np.concatenate((Y_axio, Y_iron))\n",
    "print('All data loaded and augmented. Shape = ', np.shape(X))\n"
   ]
  },
  {
   "cell_type": "code",
   "execution_count": null,
   "metadata": {},
   "outputs": [],
   "source": [
    "# Perform train/validation split. We do not use test set.\n",
    "X_train, X_val, Y_train, Y_val = train_test_split(X, Y, test_size=args['val_split'], random_state=12)"
   ]
  }
 ],
 "metadata": {
  "kernelspec": {
   "display_name": "Python 3",
   "language": "python",
   "name": "python3"
  },
  "language_info": {
   "codemirror_mode": {
    "name": "ipython",
    "version": 3
   },
   "file_extension": ".py",
   "mimetype": "text/x-python",
   "name": "python",
   "nbconvert_exporter": "python",
   "pygments_lexer": "ipython3",
   "version": "3.6.7"
  }
 },
 "nbformat": 4,
 "nbformat_minor": 2
}
