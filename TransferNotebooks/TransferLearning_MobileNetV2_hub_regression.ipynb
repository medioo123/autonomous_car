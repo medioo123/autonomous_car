{
 "cells": [
  {
   "cell_type": "markdown",
   "metadata": {},
   "source": [
    "<h1>Importation des packages et des fonctions</h1>"
   ]
  },
  {
   "cell_type": "markdown",
   "metadata": {},
   "source": [
    "<p>Parmi les packages importés on retrouve :<br>\n",
    "   <ul>\n",
    "       <li>fonctionsUtiles : package qui sert pour l'augmentation des données</li>\n",
    "       <li>matplotlib, numpy : visualisation et manipulation de données</li>\n",
    "       <li>cv2 : pour resize les images et les adapter à l'input du modèle</li> \n",
    "       <li>sklearn : pour la fonction train_test_split</li>\n",
    "       <li>Tensorflow, keras : framework pour deeplearning</li>\n",
    "   </ul>\n",
    "   <b>Attention :</b> Sur ce notebook, on utilise Tensorflow Hub pour récupérer les modèles pré-entrainés et non l'importation depuis Keras.\n",
    "</p>"
   ]
  },
  {
   "cell_type": "code",
   "execution_count": 1,
   "metadata": {},
   "outputs": [
    {
     "name": "stdout",
     "output_type": "stream",
     "text": [
      "__init__\n"
     ]
    },
    {
     "name": "stderr",
     "output_type": "stream",
     "text": [
      "/usr/local/lib/python3.5/dist-packages/h5py/__init__.py:36: FutureWarning: Conversion of the second argument of issubdtype from `float` to `np.floating` is deprecated. In future, it will be treated as `np.float64 == np.dtype(float).type`.\n",
      "  from ._conv import register_converters as _register_converters\n",
      "Using TensorFlow backend.\n"
     ]
    }
   ],
   "source": [
    "import sys\n",
    "sys.path.append('../')\n",
    "\n",
    "from fonctionsUtiles import functions as f\n",
    "from fonctionsUtiles import architecture\n",
    "from fonctionsUtiles import error\n",
    "\n",
    "import matplotlib.pyplot as plt\n",
    "import numpy as np\n",
    "import cv2\n",
    "from sklearn.model_selection import train_test_split\n",
    "\n",
    "import keras\n",
    "import tensorflow as tf\n",
    "tf.logging.set_verbosity(tf.logging.ERROR)\n",
    "import tensorflow_hub as hub\n",
    "from tensorflow.keras import layers\n",
    "from tensorflow.python.keras.models import Sequential, load_model\n",
    "from tensorflow.python.keras.layers import Dense, Flatten, GlobalAveragePooling2D, Dropout"
   ]
  },
  {
   "cell_type": "markdown",
   "metadata": {},
   "source": [
    "<h1>Chargement de toutes les données</h1>"
   ]
  },
  {
   "cell_type": "markdown",
   "metadata": {},
   "source": [
    "<p>\n",
    "    Importation de données recueillies via conduite du véhicule avec la caméra, dans des endroits différents avec un luminosité différente. Présence également de données issues d'un simulateur de données\n",
    "</p>"
   ]
  },
  {
   "cell_type": "code",
   "execution_count": 3,
   "metadata": {},
   "outputs": [
    {
     "name": "stdout",
     "output_type": "stream",
     "text": [
      "Xcouloir data Loaded. Shape =  (2419, 90, 250, 3)\n",
      "Xcouloir2 data Loaded. Shape =  (3385, 90, 250, 3)\n",
      "Xcouloir3 data Loaded. Shape =  (1275, 90, 250, 3)\n",
      "Xcouloir4 data Loaded. Shape =  (4149, 90, 250, 3)\n",
      "Xcouloir5 data Loaded. Shape =  (2944, 90, 250, 3)\n",
      "XcouloirLumineux data Loaded. Shape =  (1666, 90, 250, 3)\n",
      "XcouloirLumineux2 data Loaded. Shape =  (3239, 90, 250, 3)\n",
      "XcouloirLumineux3 data Loaded. Shape =  (4151, 90, 250, 3)\n",
      "Xcolomb data Loaded. Shape =  (4029, 90, 250, 3)\n",
      "Xsimulator data Loaded. Shape =  (15000, 90, 250, 3)\n",
      "Xsimulator1 data Loaded. Shape =  (15000, 90, 250, 3)\n"
     ]
    }
   ],
   "source": [
    "# On load toutes les images sous forme de array numpy\n",
    "Xcouloir=np.load('../Datasets/Regression/X_couloir.npy')\n",
    "Xcouloir2=np.load('../Datasets/Regression/X_couloir2.npy')\n",
    "Xcouloir3=np.load('../Datasets/Regression/X_couloir3.npy')\n",
    "Xcouloir4=np.load('../Datasets/Regression/X_couloir4.npy')\n",
    "Xcouloir5=np.load('../Datasets/Regression/X_couloir5.npy')\n",
    "XcouloirLumineux=np.load('../Datasets/Regression/X_couloir_lumineux.npy')\n",
    "XcouloirLumineux2=np.load('../Datasets/Regression/X_couloir_lumineux2.npy')\n",
    "XcouloirLumineux3=np.load('../Datasets/Regression/X_couloir_lumineux3.npy')\n",
    "Xcolomb=np.load('../Datasets/Regression/X_coulomb.npy')\n",
    "Xsimulator=np.load('../Datasets/Regression/X_simulator.npy')\n",
    "Xsimulator1=np.load('../Datasets/Regression/X_simulator1.npy')\n",
    "Xparking=np.load('../Datasets/Regression/X_parking.npy')\n",
    "\n",
    "# Idem pour les output correspondants à chaque image\n",
    "Ycouloir=np.load('../Datasets/Regression/Y_couloir.npy')\n",
    "Ycouloir2=np.load('../Datasets/Regression/Y_couloir2.npy')\n",
    "Ycouloir3=np.load('../Datasets/Regression/Y_couloir3.npy')\n",
    "Ycouloir4=np.load('../Datasets/Regression/Y_couloir4.npy')\n",
    "Ycouloir5=np.load('../Datasets/Regression/Y_couloir5.npy')\n",
    "YcouloirLumineux=np.load('../Datasets/Regression/Y_couloir_lumineux.npy')\n",
    "YcouloirLumineux2=np.load('../Datasets/Regression/Y_couloir_lumineux2.npy')\n",
    "YcouloirLumineux3=np.load('../Datasets/Regression/Y_couloir_lumineux3.npy')\n",
    "Ycolomb=np.load('../Datasets/Regression/Y_coulomb.npy')\n",
    "Ysimulator=np.load('../Datasets/Regression/Y_simulator.npy')\n",
    "Ysimulator1=np.load('../Datasets/Regression/Y_simulator1.npy')\n",
    "Yparking=np.load('../Datasets/Regression/Y_parking.npy')\n",
    "\n",
    "\n",
    "print('Xcouloir data Loaded. Shape = ', np.shape(Xcouloir))\n",
    "print('Xcouloir2 data Loaded. Shape = ', np.shape(Xcouloir2))\n",
    "print('Xcouloir3 data Loaded. Shape = ', np.shape(Xcouloir3))\n",
    "print('Xcouloir4 data Loaded. Shape = ', np.shape(Xcouloir4))\n",
    "print('Xcouloir5 data Loaded. Shape = ', np.shape(Xcouloir5))\n",
    "print('XcouloirLumineux data Loaded. Shape = ', np.shape(XcouloirLumineux))\n",
    "print('XcouloirLumineux2 data Loaded. Shape = ', np.shape(XcouloirLumineux2))\n",
    "print('XcouloirLumineux3 data Loaded. Shape = ', np.shape(XcouloirLumineux3))\n",
    "print('Xcolomb data Loaded. Shape = ', np.shape(Xcolomb))\n",
    "print('Xsimulator data Loaded. Shape = ', np.shape(Xsimulator))\n",
    "print('Xsimulator1 data Loaded. Shape = ', np.shape(Xsimulator1))\n",
    "print('Xparking data Loaded. Shape = ', np.shape(Xparking))"
   ]
  },
  {
   "cell_type": "markdown",
   "metadata": {},
   "source": [
    "<p>\n",
    "    On concatène toutes les données afin de travailler avec un seul vecteur\n",
    "</p>"
   ]
  },
  {
   "cell_type": "code",
   "execution_count": 4,
   "metadata": {},
   "outputs": [
    {
     "name": "stdout",
     "output_type": "stream",
     "text": [
      "Xfinal data Loaded. Shape =  (57257, 90, 250, 3)\n"
     ]
    }
   ],
   "source": [
    "Xfinal=np.concatenate((Xcouloir,Xcouloir2,Xcouloir3,Xcouloir4,Xcouloir5,XcouloirLumineux,XcouloirLumineux2,XcouloirLumineux3,Xcolomb,Xsimulator,Xsimulator1,Xparking))\n",
    "Yfinal=np.concatenate((Ycouloir,Ycouloir2,Ycouloir3,Ycouloir4,Ycouloir5,YcouloirLumineux,YcouloirLumineux2,YcouloirLumineux3,Ycolomb,Ysimulator,Ysimulator1,Yparking))\n",
    "del Xcouloir,Xcouloir2,Xcouloir3,Xcouloir4,Xcouloir5,Ycouloir,Ycouloir2,Ycouloir3,Ycouloir4,Ycouloir5,\n",
    "del XcouloirLumineux,XcouloirLumineux2,XcouloirLumineux3,YcouloirLumineux,YcouloirLumineux2,YcouloirLumineux3\n",
    "del Xcolomb,Xsimulator,Xsimulator1,Ycolomb,Ysimulator,Ysimulator1,Yparking,Xparking\n",
    "# On supprime également après toutes les variables temporaires pour libérer de l'espace en mémoire\n",
    "\n",
    "print('Xfinal data Loaded. Shape = ', np.shape(Xfinal))"
   ]
  },
  {
   "cell_type": "markdown",
   "metadata": {},
   "source": [
    "<h1>Resizing des données et tri des données non utilisables</h1>"
   ]
  },
  {
   "cell_type": "markdown",
   "metadata": {},
   "source": [
    "<p>\n",
    "    Pour l'approche Transfer Learning, il faut faire attention à l'input du modèle pré-entrainé que l'on utilise. Dans notre cas, MobileNetV2 admet en input des images de taille 224 x 224. Il faut donc resize les images qui sont de format 90 x 250\n",
    "</p>"
   ]
  },
  {
   "cell_type": "code",
   "execution_count": 5,
   "metadata": {},
   "outputs": [
    {
     "name": "stdout",
     "output_type": "stream",
     "text": [
      "All Xcouloir data new size. Shape =  (57257, 224, 224, 3)\n"
     ]
    }
   ],
   "source": [
    "# Définition de la fonction qui prend chaque array et la resize au bon format\n",
    "def resizing(array):\n",
    "    masterX = list()\n",
    "    for arr in array:\n",
    "        masterX.append(cv2.resize(arr, (224,224)))\n",
    "    return np.array(masterX)\n",
    "\n",
    "Xfinal_resized = resizing(Xfinal)\n",
    "\n",
    "print('All Xcouloir data new size. Shape = ', np.shape(Xfinal_resized))"
   ]
  },
  {
   "cell_type": "markdown",
   "metadata": {},
   "source": [
    "<p>\n",
    "    On enlève également les données qui comporte un angle (dans le vecteur Y) non compris entre 0 et 180 degrés. Ces données viennent du fait que la conduite à la main n'est pas forcément parfaite et que des données \"aberrantes\" ont pu être générées.\n",
    "</p>"
   ]
  },
  {
   "cell_type": "code",
   "execution_count": 6,
   "metadata": {},
   "outputs": [
    {
     "name": "stdout",
     "output_type": "stream",
     "text": [
      "All Xcouloir data new size. Shape =  (55989, 224, 224, 3)\n"
     ]
    }
   ],
   "source": [
    "# On garde seulement les données d'angle d'entrainement compris entre 0 et 180 degrés (pas de marche arrière)\n",
    "Xfinal_resized = Xfinal_resized[(Yfinal<180 )& (Yfinal>0)]\n",
    "Yfinal = Yfinal[(Yfinal<180 )& (Yfinal>0)]\n",
    "print('All Xcouloir data new size. Shape = ', np.shape(Xfinal_resized))\n",
    "\n",
    "# On normalise les données pour l'entrainement\n",
    "Yfinal = Yfinal/180"
   ]
  },
  {
   "cell_type": "markdown",
   "metadata": {},
   "source": [
    "<h1>Séparation des données en Train, Test et Validation</h1>"
   ]
  },
  {
   "cell_type": "markdown",
   "metadata": {},
   "source": [
    "<p>\n",
    "    On sépare le jeu de données en Training set, Validation set et Testing set selon les proportions suivantes :<br>\n",
    "    <ul>\n",
    "        <li>X_test = 20 % du set Xfinal_resized</li>\n",
    "        <li>X_train = 80 % des données restantes de Xfinal_resized (soit 64 % du jeu total de données)</li>\n",
    "        <li>X_val = 20 % des données restantes de Xfinal_resized (soit 16 % du jeu total de données)</li>\n",
    "    </ul>\n",
    "</p>"
   ]
  },
  {
   "cell_type": "code",
   "execution_count": 7,
   "metadata": {},
   "outputs": [],
   "source": [
    "# Dictionnaire qui stock quelques variables importantes\n",
    "args = {\"augmentation\": True,\n",
    "        \"train_split\": 0.8,\n",
    "        \"val_split\":0.2,\n",
    "        \"test_split\":0.2,\n",
    "        \"early_stop\":True,\n",
    "       \"patience\":2}"
   ]
  },
  {
   "cell_type": "code",
   "execution_count": 8,
   "metadata": {},
   "outputs": [],
   "source": [
    "# Réparatition du jeu de données en train test 80 - 20 %\n",
    "X_train, X_test, Y_train, Y_test = train_test_split(Xfinal_resized, Yfinal, test_size=0.2, random_state=12)"
   ]
  },
  {
   "cell_type": "code",
   "execution_count": 9,
   "metadata": {},
   "outputs": [],
   "source": [
    "# Répartition du jeu d'entrainement en jeu d'entrainement et en jeu de validation\n",
    "X_train, X_val, Y_train, Y_val = train_test_split(X_train, Y_train, test_size=0.2, random_state=12)"
   ]
  },
  {
   "cell_type": "code",
   "execution_count": 10,
   "metadata": {},
   "outputs": [
    {
     "name": "stdout",
     "output_type": "stream",
     "text": [
      "All training data loaded and augmented. Shape =  (35832, 224, 224, 3)\n",
      "All validation data loaded and augmented. Shape =  (8959, 224, 224, 3)\n",
      "All testing data loaded and augmented. Shape =  (11198, 224, 224, 3)\n"
     ]
    }
   ],
   "source": [
    "print('All training data loaded and augmented. Shape = ', np.shape(X_train))\n",
    "print('All validation data loaded and augmented. Shape = ', np.shape(X_val))\n",
    "print('All testing data loaded and augmented. Shape = ', np.shape(X_test))"
   ]
  },
  {
   "cell_type": "code",
   "execution_count": 11,
   "metadata": {},
   "outputs": [],
   "source": [
    "# Suppression des variables temporaires qui contiennent les images pour libérer de l'espace mémoire\n",
    "del Xfinal, Xfinal_resized, Yfinal"
   ]
  },
  {
   "cell_type": "markdown",
   "metadata": {},
   "source": [
    "<h1>Augmentation des données</h1>"
   ]
  },
  {
   "cell_type": "markdown",
   "metadata": {},
   "source": [
    "<p>\n",
    "    On augmente les données uniquement sur le jeu d'entrainement pour éviter que le jeu de validation et de test ne contiennent des données que le modèle aurait \"déjà vu\" pendant son entrainement.<br><br>\n",
    "    On rajoute 10% d'image pour chacun des effets suivant :\n",
    "    <ul>\n",
    "        <li>luminosité augmentée</li>\n",
    "        <li>effet de nuit</li>\n",
    "        <li>ombres aléatoires sur la route</li>\n",
    "    </ul>\n",
    "</p>"
   ]
  },
  {
   "cell_type": "code",
   "execution_count": 12,
   "metadata": {},
   "outputs": [
    {
     "name": "stderr",
     "output_type": "stream",
     "text": [
      "  1%|          | 40/3583 [00:00<00:08, 395.41it/s]"
     ]
    },
    {
     "name": "stdout",
     "output_type": "stream",
     "text": [
      "Augmenting data... Wait...\n"
     ]
    },
    {
     "name": "stderr",
     "output_type": "stream",
     "text": [
      "100%|██████████| 3583/3583 [00:04<00:00, 775.50it/s]\n",
      "100%|██████████| 3583/3583 [00:03<00:00, 1124.91it/s]\n",
      "100%|██████████| 3583/3583 [00:05<00:00, 693.66it/s]\n"
     ]
    },
    {
     "name": "stdout",
     "output_type": "stream",
     "text": [
      "Train data after augmentation. Shape =  (46581, 224, 224, 3)\n"
     ]
    }
   ],
   "source": [
    "# Data augmentation du dataset\n",
    "if args['augmentation']:\n",
    "    print('Augmenting data... Wait...')\n",
    "    # Data augmentation 10% de luminosité aléatoire.\n",
    "    X_bright, Y_bright = f.generate_brightness(X_train, Y_train, proportion=0.1)\n",
    "    # Data augmentation 10% d'effet de nuit.\n",
    "    X_night, Y_night = f.generate_night_effect(X_train, Y_train, proportion=0.1)\n",
    "    # Data augmentation 10% d'ombres aléatoires.\n",
    "    X_shadow, Y_shadow = f.generate_random_shadows(X_train, Y_train, proportion=0.1)\n",
    "\n",
    "    # Concaténation des données générées avec les anciennes\n",
    "    X_train = np.concatenate((X_train, X_bright, X_night,\n",
    "                                 X_shadow))\n",
    "\n",
    "    Y_train = np.concatenate((Y_train, Y_bright, Y_night, \n",
    "                                 Y_shadow)).astype('float32')\n",
    "\n",
    "    print('Train data after augmentation. Shape = ', np.shape(X_train))"
   ]
  },
  {
   "cell_type": "code",
   "execution_count": 13,
   "metadata": {},
   "outputs": [],
   "source": [
    "# Suppression des variables temporaires qui contiennent les images\n",
    "del X_bright, Y_bright, X_night, Y_night, X_shadow, Y_shadow"
   ]
  },
  {
   "cell_type": "markdown",
   "metadata": {},
   "source": [
    "<h1>Hyperparamètres</h1>"
   ]
  },
  {
   "cell_type": "markdown",
   "metadata": {},
   "source": [
    "<p>\n",
    "    On définit les hyperparamètres pour le modèle, ici la taille de l'input (<code>IMAGE_RES</code>), la taille des batch pour l'entrainement (<code>BATCH_SIZE</code>), et le nombre d'epoch pour la phase d'entrainement (<code>epochs</code>).\n",
    "</p>"
   ]
  },
  {
   "cell_type": "code",
   "execution_count": 14,
   "metadata": {},
   "outputs": [],
   "source": [
    "IMAGE_RES = 224\n",
    "BATCH_SIZE = 40\n",
    "epochs = 15"
   ]
  },
  {
   "cell_type": "markdown",
   "metadata": {},
   "source": [
    "<h1>Définition du modèle</h1>"
   ]
  },
  {
   "cell_type": "markdown",
   "metadata": {},
   "source": [
    "<p>\n",
    "    On utilise le modèle MobileNetV2 comme base préentrainée. Les poids chargés sont ceux qui résultent de l'entrainement sur \"ImageNet\". On rajoute ensuite quelques layers personnalisés pour adapter le réseau à notre problème.\n",
    "</p>"
   ]
  },
  {
   "cell_type": "code",
   "execution_count": 15,
   "metadata": {},
   "outputs": [
    {
     "name": "stdout",
     "output_type": "stream",
     "text": [
      "Model: \"sequential_1\"\n",
      "_________________________________________________________________\n",
      "Layer (type)                 Output Shape              Param #   \n",
      "=================================================================\n",
      "keras_layer (KerasLayer)     (None, 1280)              2257984   \n",
      "_________________________________________________________________\n",
      "dense (Dense)                (None, 128)               163968    \n",
      "_________________________________________________________________\n",
      "dropout (Dropout)            (None, 128)               0         \n",
      "_________________________________________________________________\n",
      "dense_1 (Dense)              (None, 128)               16512     \n",
      "_________________________________________________________________\n",
      "dropout_1 (Dropout)          (None, 128)               0         \n",
      "_________________________________________________________________\n",
      "dense_2 (Dense)              (None, 1)                 129       \n",
      "=================================================================\n",
      "Total params: 2,438,593\n",
      "Trainable params: 180,609\n",
      "Non-trainable params: 2,257,984\n",
      "_________________________________________________________________\n"
     ]
    }
   ],
   "source": [
    "# Initialisation du modèle : on télécharge le modèle MobilNetV2 en ne prenant pas en compte la dernière couche car\n",
    "# elle ne correspond pas à notre problème. Comme précisé au début, on utilise Tensorflow hub\n",
    "my_new_model = Sequential()\n",
    "URL = \"https://tfhub.dev/google/tf2-preview/mobilenet_v2/feature_vector/4\"\n",
    "feature_extractor = hub.KerasLayer(URL,\n",
    "                                   input_shape=(IMAGE_RES, IMAGE_RES,3))\n",
    "\n",
    "# Transfer learning ==> on fige les poids pour ne pas les réentrainer\n",
    "feature_extractor.trainable = False\n",
    "\n",
    "# On rajoute quelques couches au réseau dont une dernière avec un neurone pour la régression\n",
    "my_new_model = tf.keras.Sequential([\n",
    "  feature_extractor,\n",
    "  layers.Dense(128, activation='relu'),\n",
    "  layers.Dropout(0.2),\n",
    "  layers.Dense(128, activation='relu'),\n",
    "  layers.Dropout(0.2),\n",
    "  layers.Dense(1, activation='linear')\n",
    "])\n",
    "\n",
    "# On vérifie que le modèle est défini correctement\n",
    "my_new_model.summary()"
   ]
  },
  {
   "cell_type": "code",
   "execution_count": 16,
   "metadata": {},
   "outputs": [],
   "source": [
    "# On définit la fonction d'optimisation du modèle\n",
    "my_new_model.compile(optimizer='adam', loss='mean_squared_error', metrics=['mean_squared_error'])"
   ]
  },
  {
   "cell_type": "markdown",
   "metadata": {},
   "source": [
    "<h1>Schéma du modèle</h1>"
   ]
  },
  {
   "cell_type": "code",
   "execution_count": 17,
   "metadata": {},
   "outputs": [],
   "source": [
    "# from keras.utils import plot_model\n",
    "# plot_model(my_new_model, to_file='model.png')\n",
    "\n",
    "# Cela ne fonctionne pas avec les modèles issus de Tensorflow Hub"
   ]
  },
  {
   "cell_type": "markdown",
   "metadata": {},
   "source": [
    "<h1>Entrainement du modèle</h1>"
   ]
  },
  {
   "cell_type": "markdown",
   "metadata": {},
   "source": [
    "<p>\n",
    "    On effectue l'entrainement selon les jeux de données d'entrainement et de validation définis plus haut dans le notebook. On utilise également les hyper paramètres définis auparavant.\n",
    "</p>"
   ]
  },
  {
   "cell_type": "code",
   "execution_count": 18,
   "metadata": {},
   "outputs": [
    {
     "name": "stdout",
     "output_type": "stream",
     "text": [
      "Train on 46581 samples, validate on 8959 samples\n",
      "Epoch 1/15\n",
      "46581/46581 [==============================] - 777s 17ms/sample - loss: 0.1399 - mean_squared_error: 0.0567 - val_loss: 0.1268 - val_mean_squared_error: 0.0436\n",
      "Epoch 2/15\n",
      "46581/46581 [==============================] - 752s 16ms/sample - loss: 0.1296 - mean_squared_error: 0.0464 - val_loss: 0.1257 - val_mean_squared_error: 0.0425\n",
      "Epoch 3/15\n",
      "46581/46581 [==============================] - 749s 16ms/sample - loss: 0.1270 - mean_squared_error: 0.0438 - val_loss: 0.1228 - val_mean_squared_error: 0.0396\n",
      "Epoch 4/15\n",
      "46581/46581 [==============================] - 773s 17ms/sample - loss: 0.1254 - mean_squared_error: 0.0423 - val_loss: 0.1204 - val_mean_squared_error: 0.0372\n",
      "Epoch 5/15\n",
      "46581/46581 [==============================] - 753s 16ms/sample - loss: 0.1241 - mean_squared_error: 0.0410 - val_loss: 0.1192 - val_mean_squared_error: 0.0360\n",
      "Epoch 6/15\n",
      "46581/46581 [==============================] - 764s 16ms/sample - loss: 0.1232 - mean_squared_error: 0.0400 - val_loss: 0.1188 - val_mean_squared_error: 0.0356\n",
      "Epoch 7/15\n",
      "46581/46581 [==============================] - 775s 17ms/sample - loss: 0.1224 - mean_squared_error: 0.0392 - val_loss: 0.1172 - val_mean_squared_error: 0.0340\n",
      "Epoch 8/15\n",
      "46581/46581 [==============================] - 743s 16ms/sample - loss: 0.1217 - mean_squared_error: 0.0385 - val_loss: 0.1178 - val_mean_squared_error: 0.0346\n",
      "Epoch 9/15\n",
      "46581/46581 [==============================] - 742s 16ms/sample - loss: 0.1218 - mean_squared_error: 0.0386 - val_loss: 0.1161 - val_mean_squared_error: 0.0329\n",
      "Epoch 10/15\n",
      "46581/46581 [==============================] - 742s 16ms/sample - loss: 0.1209 - mean_squared_error: 0.0377 - val_loss: 0.1173 - val_mean_squared_error: 0.0341\n",
      "Epoch 11/15\n",
      "46581/46581 [==============================] - 745s 16ms/sample - loss: 0.1209 - mean_squared_error: 0.0377 - val_loss: 0.1170 - val_mean_squared_error: 0.0338\n",
      "Epoch 12/15\n",
      "46581/46581 [==============================] - 741s 16ms/sample - loss: 0.1211 - mean_squared_error: 0.0380 - val_loss: 0.1156 - val_mean_squared_error: 0.0325\n",
      "Epoch 13/15\n",
      "46581/46581 [==============================] - 744s 16ms/sample - loss: 0.1206 - mean_squared_error: 0.0374 - val_loss: 0.1151 - val_mean_squared_error: 0.0319\n",
      "Epoch 14/15\n",
      "46581/46581 [==============================] - 737s 16ms/sample - loss: 0.1203 - mean_squared_error: 0.0371 - val_loss: 0.1169 - val_mean_squared_error: 0.0338\n",
      "Epoch 15/15\n",
      "46581/46581 [==============================] - 739s 16ms/sample - loss: 0.1207 - mean_squared_error: 0.0375 - val_loss: 0.1183 - val_mean_squared_error: 0.0351\n"
     ]
    }
   ],
   "source": [
    "min_delta=.0005\n",
    "\n",
    "#checkpoint pour sauver le modèle après chaque epoch\n",
    "save_best = keras.callbacks.ModelCheckpoint(model_name, \n",
    "                                            monitor='val_loss', \n",
    "                                            verbose=1, \n",
    "                                            save_best_only=True, \n",
    "                                            mode='min')\n",
    "\n",
    "#arrêt de l'entrainement dans le cas où la validation loss ne diminue plus\n",
    "early_stop = keras.callbacks.EarlyStopping(monitor='val_loss', \n",
    "                                           min_delta=min_delta, \n",
    "                                           patience=args['patience'], \n",
    "                                           verbose=1, \n",
    "                                           mode='auto')\n",
    "callbacks_list = [save_best]\n",
    "\n",
    "if args['early_stop']:\n",
    "    callbacks_list.append(early_stop)\n",
    "\n",
    "hist = my_new_model.fit(\n",
    "                X_train, \n",
    "                Y_train,\n",
    "                epochs = epochs,\n",
    "                batch_size=BATCH_SIZE, \n",
    "                verbose=1, \n",
    "                validation_data=(X_val, Y_val),\n",
    "                callbacks=callbacks_list,\n",
    "                shuffle=True)\n",
    "\n",
    "my_new_model.save('../Models/TransferMobileNetV2_15Epochs_reg_hub.h5')"
   ]
  },
  {
   "cell_type": "markdown",
   "metadata": {},
   "source": [
    "<h1>Temps de prédiction pour une image</h1>"
   ]
  },
  {
   "cell_type": "markdown",
   "metadata": {},
   "source": [
    "<p>\n",
    "    La cellule suivante utilise une image du jeu de test et calcule le temps qu'il faut pour effectuer la prédiction.\n",
    "</p>"
   ]
  },
  {
   "cell_type": "code",
   "execution_count": 19,
   "metadata": {},
   "outputs": [
    {
     "name": "stdout",
     "output_type": "stream",
     "text": [
      "0.015008082345545898\n"
     ]
    }
   ],
   "source": [
    "import time\n",
    "start=time.time()\n",
    "for i in range(len(X_test)):\n",
    "    my_new_model.predict(X_test[i-1:i])\n",
    "\n",
    "print((time.time()-start)/len(X_test))"
   ]
  },
  {
   "cell_type": "markdown",
   "metadata": {},
   "source": [
    "<h1>Evaluation du modèle</h1>"
   ]
  },
  {
   "cell_type": "markdown",
   "metadata": {},
   "source": [
    "<p>La cellule suivante permet de tester le modèle selon un jeu de test qu'il n'a jamais vu auparavant. On peut voir si le modèle a overfit les données ou non.</p>"
   ]
  },
  {
   "cell_type": "code",
   "execution_count": 20,
   "metadata": {},
   "outputs": [
    {
     "name": "stdout",
     "output_type": "stream",
     "text": [
      "4426/4426 [==============================] - 29s 7ms/sample - loss: 0.1157 - mean_squared_error: 0.0325\n"
     ]
    },
    {
     "data": {
      "text/plain": [
       "[0.1156694176667856, 0.032517314]"
      ]
     },
     "execution_count": 20,
     "metadata": {},
     "output_type": "execute_result"
    }
   ],
   "source": [
    "my_new_model.evaluate(X_test, Y_test)"
   ]
  },
  {
   "cell_type": "markdown",
   "metadata": {},
   "source": [
    "<h1>Divers tracés</h1>"
   ]
  },
  {
   "cell_type": "markdown",
   "metadata": {},
   "source": [
    "<h3>Evolution de l'accuracy train et val en fonction du nombre d'epoch</h3>"
   ]
  },
  {
   "cell_type": "code",
   "execution_count": 20,
   "metadata": {},
   "outputs": [
    {
     "data": {
      "image/png": "[encoded data removed]",
      "text/plain": [
       "<matplotlib.figure.Figure at 0x7fc746bbc390>"
      ]
     },
     "metadata": {},
     "output_type": "display_data"
    }
   ],
   "source": [
    "plt.plot(hist.history['mean_squared_error'])\n",
    "plt.plot(hist.history['val_mean_squared_error'])\n",
    "plt.title('model accuracy')\n",
    "plt.ylabel('accuracy')\n",
    "plt.xlabel('epoch')\n",
    "plt.legend(['train', 'val'], loc='upper left')\n",
    "plt.show()"
   ]
  },
  {
   "cell_type": "markdown",
   "metadata": {},
   "source": [
    "<h3>Evolution de la loss train et val en fonction du nombre d'epoch</h3>"
   ]
  },
  {
   "cell_type": "code",
   "execution_count": 21,
   "metadata": {},
   "outputs": [
    {
     "data": {
      "image/png": "[encoded data removed]",
      "text/plain": [
       "<matplotlib.figure.Figure at 0x7fc60002f4a8>"
      ]
     },
     "metadata": {},
     "output_type": "display_data"
    }
   ],
   "source": [
    "plt.plot(hist.history['loss'])\n",
    "plt.plot(hist.history['val_loss'])\n",
    "plt.title('model loss')\n",
    "plt.ylabel('loss')\n",
    "plt.xlabel('epoch')\n",
    "plt.legend(['train', 'val'], loc='upper left')\n",
    "plt.show()"
   ]
  },
  {
   "cell_type": "markdown",
   "metadata": {},
   "source": [
    "<h1>Chargement du modèle</h1>"
   ]
  },
  {
   "cell_type": "markdown",
   "metadata": {},
   "source": [
    "<p>Les deux prochaines cellules servent à charger un modèle sauvegardé puis à l'évaluer sur un jeu de test. Attention cependant il faut redéfinir le jeux de test avant d'exécuter la deuxième cellule</p>"
   ]
  },
  {
   "cell_type": "code",
   "execution_count": null,
   "metadata": {},
   "outputs": [],
   "source": [
    "my_new_model = tf.keras.models.load_model('../Models/Julien/TransferMobileNetV2_2Epochs_doubledenselayer_V4_reg.h5',custom_objects={'KerasLayer':hub.KerasLayer})\n",
    "my_new_model.summary()"
   ]
  },
  {
   "cell_type": "code",
   "execution_count": null,
   "metadata": {},
   "outputs": [],
   "source": [
    "my_new_model.evaluate(X_test, Y_test)"
   ]
  },
  {
   "cell_type": "markdown",
   "metadata": {},
   "source": [
    "<p>\n",
    "    La cellule suivante permet d'évaluer l'erreur du modèle en degrés parmi les catégories suivantes : forte gauche, gauche, tout droit, droite, forte droite.\n",
    "</p>"
   ]
  },
  {
   "cell_type": "code",
   "execution_count": 22,
   "metadata": {},
   "outputs": [
    {
     "name": "stdout",
     "output_type": "stream",
     "text": [
      "En général :\n",
      "L'erreur relative moyenne est de  26.915526861028876\n",
      "La standard deviation moyenne est de  19.133485971765538\n",
      "forte droite\n",
      "La moyenne des ecarts est de  56.21746664571423\n",
      "La standard deviation est de  12.103819197194188\n",
      "droite\n",
      "La moyenne des ecarts est de  23.37718876804643\n",
      "La standard deviation est de  14.386840870080912\n",
      "tout droit\n",
      "La moyenne des ecarts est de  8.531825818841472\n",
      "La standard deviation est de  7.158974397987681\n",
      "gauche\n",
      "La moyenne des ecarts est de  28.839497191295937\n",
      "La standard deviation est de  15.099951673261026\n",
      "forte Gauche\n",
      "La moyenne des ecarts est de  45.01782226528208\n",
      "La standard deviation est de  22.226788847869795\n"
     ]
    },
    {
     "data": {
      "image/png": "[encoded data removed]",
      "text/plain": [
       "<matplotlib.figure.Figure at 0x7fc60064f0f0>"
      ]
     },
     "metadata": {},
     "output_type": "display_data"
    }
   ],
   "source": [
    "# On effectue la prédiction sur le jeu de test\n",
    "Y_pred = my_new_model.predict(X_test)\n",
    "\n",
    "# On effectue un petit traitement pour avoir un format des prédictions compatible avec la fonction utilisée ensuite\n",
    "Y_pred1=[0]*len(Y_pred)\n",
    "for i in range(len(Y_pred)):\n",
    "    Y_pred1[i]=Y_pred[i][0]\n",
    "Y_pred1=np.array(Y_pred1)\n",
    "\n",
    "# On appelle la fonction error_regression qui calcule l'erreur en degrés\n",
    "error.error_regression(Y_test,Y_pred1)"
   ]
  }
 ],
 "metadata": {
  "kernelspec": {
   "display_name": "Python 3",
   "language": "python",
   "name": "python3"
  },
  "language_info": {
   "codemirror_mode": {
    "name": "ipython",
    "version": 3
   },
   "file_extension": ".py",
   "mimetype": "text/x-python",
   "name": "python",
   "nbconvert_exporter": "python",
   "pygments_lexer": "ipython3",
   "version": "3.5.2"
  }
 },
 "nbformat": 4,
 "nbformat_minor": 2
}
