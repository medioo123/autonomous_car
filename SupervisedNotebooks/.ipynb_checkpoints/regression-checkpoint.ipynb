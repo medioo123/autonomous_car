{
 "cells": [
  {
   "cell_type": "markdown",
   "metadata": {},
   "source": [
    "<h1>Importation des packages et des fonctions</h1>"
   ]
  },
  {
   "cell_type": "markdown",
   "metadata": {},
   "source": [
    "<p>Parmi les packages importés on retrouve :<br>\n",
    "   <ul>\n",
    "       <li>fonctionsUtiles : package qui sert pour l'augmentation des données</li>\n",
    "       <li>matplotlib, numpy : visualisation et manipulation de données</li>\n",
    "       <li>cv2 : pour resize les images et les adapter à l'input du modèle</li> \n",
    "       <li>sklearn : pour la fonction train_test_split</li>\n",
    "       <li>Tensorflow, keras : framework pour deeplearning</li>\n",
    "   </ul>\n",
    "\n",
    "</p>"
   ]
  },
  {
   "cell_type": "code",
   "execution_count": 59,
   "metadata": {},
   "outputs": [],
   "source": [
    "import numpy as np\n",
    "import matplotlib.pyplot as plt\n",
    "import sys\n",
    "sys.path.append('../')\n",
    "import numpy as np \n",
    "import keras\n",
    "from sklearn.model_selection import train_test_split\n",
    "from fonctionsUtiles import functions as f\n",
    "from fonctionsUtiles import architecture\n",
    "import argparse\n",
    "import warnings\n",
    "warnings.filterwarnings(\"ignore\")\n",
    "from fonctionsUtiles import my_cv as my_cv\n",
    "import matplotlib.pyplot as plt\n",
    "import cv2\n",
    "import time\n",
    "from fonctionsUtiles import error\n",
    "import shap"
   ]
  },
  {
   "cell_type": "code",
   "execution_count": 60,
   "metadata": {},
   "outputs": [],
   "source": [
    "\n",
    "\n",
    "args = {\"batch_size\": 30,\n",
    "        \"augmentation\": True,\n",
    "       \"epochs\": 20,\n",
    "       \"val_split\":0.2,\n",
    "       \"early_stop\":True,\n",
    "       \"patience\":2}\n"
   ]
  },
  {
   "cell_type": "markdown",
   "metadata": {},
   "source": [
    "<h1>Chargement de toutes les données</h1>"
   ]
  },
  {
   "cell_type": "markdown",
   "metadata": {},
   "source": [
    "<p>\n",
    "    Importation de données recueillies via conduite du véhicule avec la caméra, dans des endroits différents avec un luminosité différente. Présence également de données issues d'un simulateur de données\n",
    "</p>"
   ]
  },
  {
   "cell_type": "code",
   "execution_count": 61,
   "metadata": {},
   "outputs": [
    {
     "name": "stdout",
     "output_type": "stream",
     "text": [
      "Xcouloir data Loaded. Shape =  (2419, 90, 250, 3)\n",
      "Xcouloir2 data Loaded. Shape =  (3385, 90, 250, 3)\n",
      "Xcouloir3 data Loaded. Shape =  (1275, 90, 250, 3)\n",
      "Xcouloir4 data Loaded. Shape =  (4149, 90, 250, 3)\n",
      "Xcouloir5 data Loaded. Shape =  (2944, 90, 250, 3)\n",
      "XcouloirLumineux data Loaded. Shape =  (1666, 90, 250, 3)\n",
      "XcouloirLumineux2 data Loaded. Shape =  (3239, 90, 250, 3)\n",
      "XcouloirLumineux3 data Loaded. Shape =  (4151, 90, 250, 3)\n",
      "Xcolomb data Loaded. Shape =  (4029, 90, 250, 3)\n",
      "Xsimulator data Loaded. Shape =  (15000, 90, 250, 3)\n",
      "Xsimulator1 data Loaded. Shape =  (15000, 90, 250, 3)\n",
      "Xparking data Loaded. Shape =  (3882, 90, 250, 3)\n"
     ]
    }
   ],
   "source": [
    "# On load toutes les images sous forme de array numpy\n",
    "Xcouloir=np.load('../Datasets/Regression/X_couloir.npy')\n",
    "Xcouloir2=np.load('../Datasets/Regression/X_couloir2.npy')\n",
    "Xcouloir3=np.load('../Datasets/Regression/X_couloir3.npy')\n",
    "Xcouloir4=np.load('../Datasets/Regression/X_couloir4.npy')\n",
    "Xcouloir5=np.load('../Datasets/Regression/X_couloir5.npy')\n",
    "XcouloirLumineux=np.load('../Datasets/Regression/X_couloir_lumineux.npy')\n",
    "XcouloirLumineux2=np.load('../Datasets/Regression/X_couloir_lumineux2.npy')\n",
    "XcouloirLumineux3=np.load('../Datasets/Regression/X_couloir_lumineux3.npy')\n",
    "Xcolomb=np.load('../Datasets/Regression/X_coulomb.npy')\n",
    "Xsimulator=np.load('../Datasets/Regression/X_simulator.npy')\n",
    "Xsimulator1=np.load('../Datasets/Regression/X_simulator1.npy')\n",
    "Xparking=np.load('../Datasets/Regression/X_parking.npy')\n",
    "\n",
    "# Idem pour les output correspondants à chaque image\n",
    "Ycouloir=np.load('../Datasets/Regression/Y_couloir.npy')\n",
    "Ycouloir2=np.load('../Datasets/Regression/Y_couloir2.npy')\n",
    "Ycouloir3=np.load('../Datasets/Regression/Y_couloir3.npy')\n",
    "Ycouloir4=np.load('../Datasets/Regression/Y_couloir4.npy')\n",
    "Ycouloir5=np.load('../Datasets/Regression/Y_couloir5.npy')\n",
    "YcouloirLumineux=np.load('../Datasets/Regression/Y_couloir_lumineux.npy')\n",
    "YcouloirLumineux2=np.load('../Datasets/Regression/Y_couloir_lumineux2.npy')\n",
    "YcouloirLumineux3=np.load('../Datasets/Regression/Y_couloir_lumineux3.npy')\n",
    "Ycolomb=np.load('../Datasets/Regression/Y_coulomb.npy')\n",
    "Ysimulator=np.load('../Datasets/Regression/Y_simulator.npy')\n",
    "Ysimulator1=np.load('../Datasets/Regression/Y_simulator1.npy')\n",
    "Yparking=np.load('../Datasets/Regression/Y_parking.npy')\n",
    "\n",
    "\n",
    "print('Xcouloir data Loaded. Shape = ', np.shape(Xcouloir))\n",
    "print('Xcouloir2 data Loaded. Shape = ', np.shape(Xcouloir2))\n",
    "print('Xcouloir3 data Loaded. Shape = ', np.shape(Xcouloir3))\n",
    "print('Xcouloir4 data Loaded. Shape = ', np.shape(Xcouloir4))\n",
    "print('Xcouloir5 data Loaded. Shape = ', np.shape(Xcouloir5))\n",
    "print('XcouloirLumineux data Loaded. Shape = ', np.shape(XcouloirLumineux))\n",
    "print('XcouloirLumineux2 data Loaded. Shape = ', np.shape(XcouloirLumineux2))\n",
    "print('XcouloirLumineux3 data Loaded. Shape = ', np.shape(XcouloirLumineux3))\n",
    "print('Xcolomb data Loaded. Shape = ', np.shape(Xcolomb))\n",
    "print('Xsimulator data Loaded. Shape = ', np.shape(Xsimulator))\n",
    "print('Xsimulator1 data Loaded. Shape = ', np.shape(Xsimulator1))\n",
    "print('Xparking data Loaded. Shape = ', np.shape(Xparking))"
   ]
  },
  {
   "cell_type": "markdown",
   "metadata": {},
   "source": [
    "<p>\n",
    "    On concatène toutes les données afin de travailler avec un seul vecteur\n",
    "</p>"
   ]
  },
  {
   "cell_type": "code",
   "execution_count": 62,
   "metadata": {
    "scrolled": false
   },
   "outputs": [
    {
     "name": "stdout",
     "output_type": "stream",
     "text": [
      "Xfinal data Loaded. Shape =  (61139, 90, 250, 3)\n"
     ]
    }
   ],
   "source": [
    "Xfinal=np.concatenate((Xcouloir,Xcouloir2,Xcouloir3,Xcouloir4,Xcouloir5,XcouloirLumineux,XcouloirLumineux2,XcouloirLumineux3,Xcolomb,Xsimulator,Xsimulator1,Xparking))\n",
    "Yfinal=np.concatenate((Ycouloir,Ycouloir2,Ycouloir3,Ycouloir4,Ycouloir5,YcouloirLumineux,YcouloirLumineux2,YcouloirLumineux3,Ycolomb,Ysimulator,Ysimulator1,Yparking))\n",
    "del Xcouloir,Xcouloir2,Xcouloir3,Xcouloir4,Xcouloir5,Ycouloir,Ycouloir2,Ycouloir3,Ycouloir4,Ycouloir5,\n",
    "del XcouloirLumineux,XcouloirLumineux2,XcouloirLumineux3,YcouloirLumineux,YcouloirLumineux2,YcouloirLumineux3\n",
    "del Xcolomb,Xsimulator,Xsimulator1,Ycolomb,Ysimulator,Ysimulator1,Yparking,Xparking\n",
    "# On supprime également après toutes les variables temporaires pour libérer de l'espace en mémoire\n",
    "\n",
    "print('Xfinal data Loaded. Shape = ', np.shape(Xfinal))"
   ]
  },
  {
   "cell_type": "markdown",
   "metadata": {},
   "source": [
    "<p>\n",
    "Tri des données utilisables</p>"
   ]
  },
  {
   "cell_type": "code",
   "execution_count": 63,
   "metadata": {},
   "outputs": [],
   "source": [
    "# On garde seulement les données d'angle d'entrainement compris entre 0 et 180 degrés (pas de marche arrière)\n",
    "\n",
    "Xfinal=Xfinal[(Yfinal<180 )& (Yfinal>0)]\n",
    "Yfinal=Yfinal[(Yfinal<180 )& (Yfinal>0)]\n",
    "\n",
    "# On normalise les données pour l'entrainement\n",
    "Yfinal = Yfinal/180"
   ]
  },
  {
   "cell_type": "code",
   "execution_count": 64,
   "metadata": {},
   "outputs": [
    {
     "name": "stdout",
     "output_type": "stream",
     "text": [
      "Xfinal data Loaded. Shape =  (59760, 90, 250, 3)\n"
     ]
    }
   ],
   "source": [
    "print('Xfinal data Loaded. Shape = ', np.shape(Xfinal))"
   ]
  },
  {
   "cell_type": "code",
   "execution_count": 65,
   "metadata": {},
   "outputs": [],
   "source": [
    "Yplot=np.sort(Yfinal)"
   ]
  },
  {
   "cell_type": "code",
   "execution_count": 72,
   "metadata": {},
   "outputs": [
    {
     "data": {
      "image/png": "[encoded data removed]",
      "text/plain": [
       "<matplotlib.figure.Figure at 0x7f2ec9db02e8>"
      ]
     },
     "metadata": {},
     "output_type": "display_data"
    }
   ],
   "source": [
    "plt.hist(Yplot*180)\n",
    "plt.xlabel('Angle')\n",
    "plt.ylabel('Quantité')\n",
    "plt.show()"
   ]
  },
  {
   "cell_type": "markdown",
   "metadata": {},
   "source": [
    "<h1>Séparation des données en Train, Test et Validation</h1>"
   ]
  },
  {
   "cell_type": "markdown",
   "metadata": {},
   "source": [
    "<p>\n",
    "    On sépare le jeu de données en Training set, Validation set et Testing set selon les proportions suivantes :<br>\n",
    "    <ul>\n",
    "        <li>X_test = 20 % du set Xfinal_resized</li>\n",
    "        <li>X_train = 80 % des données restantes de Xfinal_resized (soit 64 % du jeu total de données)</li>\n",
    "        <li>X_val = 20 % des données restantes de Xfinal_resized (soit 16 % du jeu total de données)</li>\n",
    "    </ul>\n",
    "</p>"
   ]
  },
  {
   "cell_type": "code",
   "execution_count": 73,
   "metadata": {},
   "outputs": [],
   "source": [
    "# Dictionnaire qui stock quelques variables importantes\n",
    "args = {\"batch_size\": 30,\n",
    "        \"augmentation\": True,\n",
    "       \"epochs\": 20,\n",
    "       \"val_split\":0.2,\n",
    "       \"early_stop\":True,\n",
    "       \"patience\":2}\n"
   ]
  },
  {
   "cell_type": "code",
   "execution_count": 74,
   "metadata": {},
   "outputs": [],
   "source": [
    "# Réparatition du jeu de données en train test 80 - 20 %\n",
    "X_train, X_test, Y_train, Y_test = train_test_split(Xfinal, Yfinal, test_size=0.2, random_state=12)"
   ]
  },
  {
   "cell_type": "code",
   "execution_count": 75,
   "metadata": {},
   "outputs": [],
   "source": [
    "# Répartition du jeu d'entrainement en jeu d'entrainement et en jeu de validation\n",
    "X_train, X_val, Y_train, Y_val = train_test_split(X_train, Y_train, test_size=0.2, random_state=12)"
   ]
  },
  {
   "cell_type": "code",
   "execution_count": 76,
   "metadata": {},
   "outputs": [
    {
     "name": "stdout",
     "output_type": "stream",
     "text": [
      "All training data loaded and augmented. Shape =  (38246, 90, 250, 3)\n",
      "All validation data loaded and augmented. Shape =  (9562, 90, 250, 3)\n",
      "All testing data loaded and augmented. Shape =  (11952, 90, 250, 3)\n"
     ]
    }
   ],
   "source": [
    "print('All training data loaded and augmented. Shape = ', np.shape(X_train))\n",
    "print('All validation data loaded and augmented. Shape = ', np.shape(X_val))\n",
    "print('All testing data loaded and augmented. Shape = ', np.shape(X_test))"
   ]
  },
  {
   "cell_type": "code",
   "execution_count": 77,
   "metadata": {},
   "outputs": [],
   "source": [
    "# Suppression des variables temporaires qui contiennent les images pour libérer de l'espace mémoire\n",
    "del Xfinal, Yfinal"
   ]
  },
  {
   "cell_type": "markdown",
   "metadata": {},
   "source": [
    "<h1>Augmentation des données</h1>"
   ]
  },
  {
   "cell_type": "markdown",
   "metadata": {},
   "source": [
    "<p>\n",
    "    On augmente les données uniquement sur le jeu d'entrainement pour éviter que le jeu de validation et de test ne contiennent des données que le modèle aurait \"déjà vu\" pendant son entrainement.<br><br>\n",
    "    On rajoute 10% d'image pour chacun des effets suivant :\n",
    "    <ul>\n",
    "        <li>luminosité augmentée</li>\n",
    "        <li>effet de nuit</li>\n",
    "        <li>ombres aléatoires sur la route</li>\n",
    "    </ul>\n",
    "</p>"
   ]
  },
  {
   "cell_type": "code",
   "execution_count": 78,
   "metadata": {},
   "outputs": [
    {
     "name": "stderr",
     "output_type": "stream",
     "text": [
      "  3%|▎         | 105/3824 [00:00<00:03, 1046.58it/s]"
     ]
    },
    {
     "name": "stdout",
     "output_type": "stream",
     "text": [
      "Augmenting data... Wait...\n"
     ]
    },
    {
     "name": "stderr",
     "output_type": "stream",
     "text": [
      "100%|██████████| 3824/3824 [00:02<00:00, 1719.12it/s]\n",
      "100%|██████████| 3824/3824 [00:01<00:00, 2503.99it/s]\n",
      "100%|██████████| 3824/3824 [00:02<00:00, 1430.89it/s]\n",
      "100%|██████████| 3824/3824 [00:02<00:00, 1578.57it/s]\n",
      "100%|██████████| 3824/3824 [00:00<00:00, 498725.70it/s]\n"
     ]
    },
    {
     "name": "stdout",
     "output_type": "stream",
     "text": [
      "Train data after augmentation. Shape =  (53542, 90, 250, 3)\n"
     ]
    }
   ],
   "source": [
    "# Data augmentation du dataset\n",
    "if args['augmentation']:\n",
    "    print('Augmenting data... Wait...')\n",
    "    # Data augmentation 10% de luminosité aléatoire.\n",
    "    X_bright, Y_bright = f.generate_brightness(X_train, Y_train, proportion=0.1)\n",
    "    # Data augmentation 10% d'effet de nuit.\n",
    "    X_night, Y_night = f.generate_night_effect(X_train, Y_train, proportion=0.1)\n",
    "    # Data augmentation 10% d'ombres aléatoires.\n",
    "    X_shadow, Y_shadow = f.generate_random_shadows(X_train, Y_train, proportion=0.1)\n",
    "    # Data augmentation 25% of gamma correction.\n",
    "    X_gam, Y_gam = f.generate_low_gamma(X_train, Y_train, proportion=0.1)\n",
    "    # Data augmentation 25% of random shadows.\n",
    "    X_flip, Y_flip = f.generate_horizontal_flip_regression(X_train, Y_train, proportion=0.1)\n",
    "    \n",
    "    # Concaténation des données générées avec les anciennes\n",
    "    X_train = np.concatenate((X_train, X_bright, X_shadow, X_gam,X_flip))\n",
    "\n",
    "    Y_train = np.concatenate((Y_train, Y_bright, \n",
    "                                 Y_shadow,Y_gam,Y_flip)).astype('float32')\n",
    "\n",
    "    print('Train data after augmentation. Shape = ', np.shape(X_train))"
   ]
  },
  {
   "cell_type": "code",
   "execution_count": 79,
   "metadata": {},
   "outputs": [],
   "source": [
    "# Suppression des variables temporaires qui contiennent les images\n",
    "del X_bright, Y_bright, X_night, Y_night, X_shadow, Y_shadow,X_gam,Y_gam,X_flip,Y_flip"
   ]
  },
  {
   "cell_type": "markdown",
   "metadata": {},
   "source": [
    "<h1>Définition du modèle</h1>"
   ]
  },
  {
   "cell_type": "markdown",
   "metadata": {},
   "source": [
    "<p>\n",
    "    On utilise l'architecture de Nvidia avec la dernière layer pour de la regression\n",
    "</p>"
   ]
  },
  {
   "cell_type": "code",
   "execution_count": 80,
   "metadata": {},
   "outputs": [
    {
     "name": "stdout",
     "output_type": "stream",
     "text": [
      "_________________________________________________________________\n",
      "Layer (type)                 Output Shape              Param #   \n",
      "=================================================================\n",
      "img_in (InputLayer)          (None, 90, 250, 3)        0         \n",
      "_________________________________________________________________\n",
      "conv2d_21 (Conv2D)           (None, 43, 123, 24)       1824      \n",
      "_________________________________________________________________\n",
      "conv2d_22 (Conv2D)           (None, 20, 60, 32)        19232     \n",
      "_________________________________________________________________\n",
      "conv2d_23 (Conv2D)           (None, 8, 28, 64)         51264     \n",
      "_________________________________________________________________\n",
      "conv2d_24 (Conv2D)           (None, 6, 26, 64)         36928     \n",
      "_________________________________________________________________\n",
      "conv2d_25 (Conv2D)           (None, 4, 24, 64)         36928     \n",
      "_________________________________________________________________\n",
      "flattened (Flatten)          (None, 6144)              0         \n",
      "_________________________________________________________________\n",
      "dense_9 (Dense)              (None, 100)               614500    \n",
      "_________________________________________________________________\n",
      "dropout_9 (Dropout)          (None, 100)               0         \n",
      "_________________________________________________________________\n",
      "dense_10 (Dense)             (None, 50)                5050      \n",
      "_________________________________________________________________\n",
      "dropout_10 (Dropout)         (None, 50)                0         \n",
      "_________________________________________________________________\n",
      "angle_out (Dense)            (None, 1)                 51        \n",
      "=================================================================\n",
      "Total params: 765,777\n",
      "Trainable params: 765,777\n",
      "Non-trainable params: 0\n",
      "_________________________________________________________________\n"
     ]
    }
   ],
   "source": [
    "model_path = '../Models/Nvidia/regression_'\n",
    "# Create autopilot model from architectures and print summary\n",
    "model =  architecture.model_regression(input_size=(90,250,3), dropout=0.1)\n",
    "model.summary()"
   ]
  },
  {
   "cell_type": "markdown",
   "metadata": {},
   "source": [
    "<h1>Schéma du modèle</h1>"
   ]
  },
  {
   "cell_type": "code",
   "execution_count": 81,
   "metadata": {},
   "outputs": [],
   "source": [
    "# from keras.utils import plot_model\n",
    "# plot_model(my_new_model, to_file='model.png')\n",
    "\n",
    "# Cela ne fonctionne pas avec les modèles issus de Tensorflow Hub"
   ]
  },
  {
   "cell_type": "markdown",
   "metadata": {},
   "source": [
    "<h1>Entrainement du modèle</h1>"
   ]
  },
  {
   "cell_type": "markdown",
   "metadata": {},
   "source": [
    "<p>\n",
    "    On effectue l'entrainement selon les jeux de données d'entrainement et de validation définis plus haut dans le notebook. On utilise également les hyper paramètres définis auparavant.\n",
    "</p>"
   ]
  },
  {
   "cell_type": "code",
   "execution_count": null,
   "metadata": {},
   "outputs": [],
   "source": []
  },
  {
   "cell_type": "code",
   "execution_count": 82,
   "metadata": {},
   "outputs": [
    {
     "name": "stdout",
     "output_type": "stream",
     "text": [
      "Train on 53542 samples, validate on 9562 samples\n",
      "Epoch 1/20\n",
      "53430/53542 [============================>.] - ETA: 0s - loss: 2.1500 - mean_squared_error: 2.1500Epoch 00000: val_loss improved from inf to 0.03903, saving model to ../Models/Nvidia/regression_tester.hdf5\n",
      "53542/53542 [==============================] - 31s - loss: 2.1456 - mean_squared_error: 2.1456 - val_loss: 0.0390 - val_mean_squared_error: 0.0390\n",
      "Epoch 2/20\n",
      "53520/53542 [============================>.] - ETA: 0s - loss: 0.0402 - mean_squared_error: 0.0402Epoch 00001: val_loss improved from 0.03903 to 0.03471, saving model to ../Models/Nvidia/regression_tester.hdf5\n",
      "53542/53542 [==============================] - 31s - loss: 0.0402 - mean_squared_error: 0.0402 - val_loss: 0.0347 - val_mean_squared_error: 0.0347\n",
      "Epoch 3/20\n",
      "53520/53542 [============================>.] - ETA: 0s - loss: 0.0329 - mean_squared_error: 0.0329Epoch 00002: val_loss improved from 0.03471 to 0.02792, saving model to ../Models/Nvidia/regression_tester.hdf5\n",
      "53542/53542 [==============================] - 31s - loss: 0.0329 - mean_squared_error: 0.0329 - val_loss: 0.0279 - val_mean_squared_error: 0.0279\n",
      "Epoch 4/20\n",
      "53460/53542 [============================>.] - ETA: 0s - loss: 0.0280 - mean_squared_error: 0.0280Epoch 00003: val_loss improved from 0.02792 to 0.02532, saving model to ../Models/Nvidia/regression_tester.hdf5\n",
      "53542/53542 [==============================] - 31s - loss: 0.0280 - mean_squared_error: 0.0280 - val_loss: 0.0253 - val_mean_squared_error: 0.0253\n",
      "Epoch 5/20\n",
      "53460/53542 [============================>.] - ETA: 0s - loss: 0.0236 - mean_squared_error: 0.0236Epoch 00004: val_loss improved from 0.02532 to 0.01979, saving model to ../Models/Nvidia/regression_tester.hdf5\n",
      "53542/53542 [==============================] - 30s - loss: 0.0236 - mean_squared_error: 0.0236 - val_loss: 0.0198 - val_mean_squared_error: 0.0198\n",
      "Epoch 6/20\n",
      "53460/53542 [============================>.] - ETA: 0s - loss: 0.0187 - mean_squared_error: 0.0187Epoch 00005: val_loss improved from 0.01979 to 0.01417, saving model to ../Models/Nvidia/regression_tester.hdf5\n",
      "53542/53542 [==============================] - 31s - loss: 0.0187 - mean_squared_error: 0.0187 - val_loss: 0.0142 - val_mean_squared_error: 0.0142\n",
      "Epoch 7/20\n",
      "53520/53542 [============================>.] - ETA: 0s - loss: 0.0156 - mean_squared_error: 0.0156Epoch 00006: val_loss did not improve\n",
      "53542/53542 [==============================] - 31s - loss: 0.0156 - mean_squared_error: 0.0156 - val_loss: 0.0144 - val_mean_squared_error: 0.0144\n",
      "Epoch 8/20\n",
      "53490/53542 [============================>.] - ETA: 0s - loss: 0.0141 - mean_squared_error: 0.0141Epoch 00007: val_loss improved from 0.01417 to 0.01271, saving model to ../Models/Nvidia/regression_tester.hdf5\n",
      "53542/53542 [==============================] - 31s - loss: 0.0141 - mean_squared_error: 0.0141 - val_loss: 0.0127 - val_mean_squared_error: 0.0127\n",
      "Epoch 9/20\n",
      "53460/53542 [============================>.] - ETA: 0s - loss: 0.0132 - mean_squared_error: 0.0132Epoch 00008: val_loss did not improve\n",
      "53542/53542 [==============================] - 31s - loss: 0.0132 - mean_squared_error: 0.0132 - val_loss: 0.0148 - val_mean_squared_error: 0.0148\n",
      "Epoch 10/20\n",
      "53520/53542 [============================>.] - ETA: 0s - loss: 0.0134 - mean_squared_error: 0.0134Epoch 00009: val_loss improved from 0.01271 to 0.01182, saving model to ../Models/Nvidia/regression_tester.hdf5\n",
      "53542/53542 [==============================] - 31s - loss: 0.0134 - mean_squared_error: 0.0134 - val_loss: 0.0118 - val_mean_squared_error: 0.0118\n",
      "Epoch 11/20\n",
      "53460/53542 [============================>.] - ETA: 0s - loss: 0.0115 - mean_squared_error: 0.0115Epoch 00010: val_loss improved from 0.01182 to 0.00993, saving model to ../Models/Nvidia/regression_tester.hdf5\n",
      "53542/53542 [==============================] - 31s - loss: 0.0115 - mean_squared_error: 0.0115 - val_loss: 0.0099 - val_mean_squared_error: 0.0099\n",
      "Epoch 12/20\n",
      "53520/53542 [============================>.] - ETA: 0s - loss: 0.0100 - mean_squared_error: 0.0100Epoch 00011: val_loss improved from 0.00993 to 0.00944, saving model to ../Models/Nvidia/regression_tester.hdf5\n",
      "53542/53542 [==============================] - 31s - loss: 0.0100 - mean_squared_error: 0.0100 - val_loss: 0.0094 - val_mean_squared_error: 0.0094\n",
      "Epoch 13/20\n",
      "53430/53542 [============================>.] - ETA: 0s - loss: 0.0094 - mean_squared_error: 0.0094Epoch 00012: val_loss did not improve\n",
      "53542/53542 [==============================] - 31s - loss: 0.0094 - mean_squared_error: 0.0094 - val_loss: 0.0099 - val_mean_squared_error: 0.0099\n",
      "Epoch 14/20\n",
      "53490/53542 [============================>.] - ETA: 0s - loss: 0.0087 - mean_squared_error: 0.0087Epoch 00013: val_loss did not improve\n",
      "53542/53542 [==============================] - 31s - loss: 0.0087 - mean_squared_error: 0.0087 - val_loss: 0.0130 - val_mean_squared_error: 0.0130\n",
      "Epoch 00013: early stopping\n"
     ]
    }
   ],
   "source": [
    "\n",
    "# Train model\n",
    "model_name = model_path + 'tester.hdf5'\n",
    "min_delta=.0005\n",
    "\n",
    "#checkpoint to save model after each epoch\n",
    "save_best = keras.callbacks.ModelCheckpoint(model_name, \n",
    "                                            monitor='val_loss', \n",
    "                                            verbose=1, \n",
    "                                            save_best_only=True, \n",
    "                                            mode='min')\n",
    "\n",
    "#stop training if the validation error stops improving.\n",
    "early_stop = keras.callbacks.EarlyStopping(monitor='val_loss', \n",
    "                                           min_delta=min_delta, \n",
    "                                           patience=args['patience'], \n",
    "                                           verbose=1, \n",
    "                                           mode='auto')\n",
    "callbacks_list = [save_best]\n",
    "\n",
    "if args['early_stop']:\n",
    "    callbacks_list.append(early_stop)\n",
    "    \n",
    "hist = model.fit(\n",
    "                X_train, \n",
    "                Y_train,\n",
    "                nb_epoch=args['epochs'],\n",
    "                batch_size=args['batch_size'], \n",
    "                verbose=1, \n",
    "                validation_data=(X_val, Y_val),\n",
    "                callbacks=callbacks_list,\n",
    "                shuffle=True)    "
   ]
  },
  {
   "cell_type": "markdown",
   "metadata": {},
   "source": [
    "<h1>Temps de prédiction pour une image</h1>"
   ]
  },
  {
   "cell_type": "markdown",
   "metadata": {},
   "source": [
    "<p>\n",
    "    La cellule suivante utilise une image du jeu de test et calcule le temps qu'il faut pour effectuer la prédiction.\n",
    "</p>"
   ]
  },
  {
   "cell_type": "code",
   "execution_count": 83,
   "metadata": {},
   "outputs": [
    {
     "name": "stdout",
     "output_type": "stream",
     "text": [
      "0.0015714168548583984\n"
     ]
    }
   ],
   "source": [
    "import time\n",
    "start=time.time()\n",
    "for i in range(1):\n",
    "    model.predict(X_test[i-1:i])\n",
    "\n",
    "print(time.time()-start)"
   ]
  },
  {
   "cell_type": "markdown",
   "metadata": {},
   "source": [
    "<h1>Erreur associée au modèle</h1>"
   ]
  },
  {
   "cell_type": "markdown",
   "metadata": {},
   "source": [
    "<p>\n",
    "    Predire sur le testing set et voir l'erreur\n",
    "</p>"
   ]
  },
  {
   "cell_type": "code",
   "execution_count": 84,
   "metadata": {},
   "outputs": [],
   "source": [
    "Y_pred=model.predict(X_test)\n"
   ]
  },
  {
   "cell_type": "code",
   "execution_count": 85,
   "metadata": {},
   "outputs": [],
   "source": [
    "Y_pred1=[0]*len(Y_pred)\n",
    "for i in range(len(Y_pred)):\n",
    "    Y_pred1[i]=Y_pred[i][0]\n",
    "Y_pred1=np.array(Y_pred1)\n",
    "\n"
   ]
  },
  {
   "cell_type": "code",
   "execution_count": 86,
   "metadata": {},
   "outputs": [
    {
     "name": "stdout",
     "output_type": "stream",
     "text": [
      "En général :\n",
      "L'erreur relative moyenne est de  13.738706214557135\n",
      "La standard deviation moyenne est de  15.639702855028414\n",
      "forte droite\n",
      "La moyenne des ecarts est de  27.142906180120736\n",
      "La standard deviation est de  21.378804293426555\n",
      "droite\n",
      "La moyenne des ecarts est de  11.350472645101403\n",
      "La standard deviation est de  14.35371348378869\n",
      "tout droit\n",
      "La moyenne des ecarts est de  10.514556883000393\n",
      "La standard deviation est de  10.883312563581773\n",
      "gauche\n",
      "La moyenne des ecarts est de  12.22166372701887\n",
      "La standard deviation est de  13.431531126289814\n",
      "forte Gauche\n",
      "La moyenne des ecarts est de  21.318428873064413\n",
      "La standard deviation est de  19.876309504307024\n"
     ]
    },
    {
     "data": {
      "image/png": "[encoded data removed]",
      "text/plain": [
       "<matplotlib.figure.Figure at 0x7f2ecaa9f128>"
      ]
     },
     "metadata": {},
     "output_type": "display_data"
    }
   ],
   "source": [
    "error.error_regression(Y_test,Y_pred1)"
   ]
  },
  {
   "cell_type": "code",
   "execution_count": null,
   "metadata": {},
   "outputs": [],
   "source": []
  },
  {
   "cell_type": "code",
   "execution_count": 57,
   "metadata": {},
   "outputs": [
    {
     "data": {
      "text/html": [
       "[<matplotlib.lines.Line2D object at 0x7f2ecaa97f98>]"
      ],
      "text/plain": [
       "[<matplotlib.lines.Line2D at 0x7f2ecaa97f98>]"
      ]
     },
     "execution_count": 57,
     "metadata": {},
     "output_type": "execute_result"
    },
    {
     "data": {
      "image/png": "[encoded data removed]",
      "text/plain": [
       "<matplotlib.figure.Figure at 0x7f2eca887a90>"
      ]
     },
     "metadata": {},
     "output_type": "display_data"
    }
   ],
   "source": [
    "plt.plot(Y_test*180,Y_pred1*180,'rx')\n",
    "plt.xlabel('Angle test')\n",
    "plt.ylabel('Angle prédit')"
   ]
  }
 ],
 "metadata": {
  "kernelspec": {
   "display_name": "Python 3",
   "language": "python",
   "name": "python3"
  },
  "language_info": {
   "codemirror_mode": {
    "name": "ipython",
    "version": 3
   },
   "file_extension": ".py",
   "mimetype": "text/x-python",
   "name": "python",
   "nbconvert_exporter": "python",
   "pygments_lexer": "ipython3",
   "version": "3.5.2"
  }
 },
 "nbformat": 4,
 "nbformat_minor": 2
}
